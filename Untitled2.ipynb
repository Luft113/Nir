{
 "cells": [
  {
   "cell_type": "code",
   "execution_count": null,
   "metadata": {},
   "outputs": [],
   "source": [
    "# Вариант 2\n",
    "# Задание 316(а)\n",
    "string = \"Стукажаававапвпд апвд укц\"\n",
    "i = 0\n",
    "conclusion = False\n",
    "while i < len(string) and string[i] != \" \":\n",
    "  word = \"\"\n",
    "  while i < len(string) and string[i] != \" \":\n",
    "    word += string[i]\n",
    "    i = i + 1\n",
    "  if (word[len(word)-1] == 'д') and (len(word) <= 15):\n",
    "    print(word)\n",
    "    conclusion = True\n",
    "  i = i + 1\n",
    "if conclusion == False:\n",
    "  print(\"Таких слов нет\")"
   ]
  },
  {
   "cell_type": "code",
   "execution_count": null,
   "metadata": {},
   "outputs": [],
   "source": [
    "# Задание 368\n",
    "import random\n",
    "import math\n",
    "a = [random.uniform(-100, 100) for i in range(10)]\n",
    "b = [random.uniform(-100, 100) for i in range(20)]\n",
    "c = [[0] * 10 for i in range(20)]\n",
    "for i in range(len(b) - 1):\n",
    "  for j in range(len(a) - 1):\n",
    "    c[i][j] = a[j]/(1 + abs(b[i])) \n",
    "    print(\"{:.2f} \".format(c[i][j]), end = \"\" )\n",
    "  print()"
   ]
  },
  {
   "cell_type": "code",
   "execution_count": null,
   "metadata": {},
   "outputs": [],
   "source": [
    "# Задание 1014\n",
    "mk = [[17, 24, 1, 8, 15], [23, 5, 7, 14, 16], [4, 6, 13, 20, 22], [10, 12, 19, 21, 3], [11, 18, 25, 2, 9]]\n",
    "sum = 0\n",
    "equal = True\n",
    "sum_gldiag = 0\n",
    "sum_pobdiag = 0\n",
    "for j in range(len(mk)):\n",
    "  sum += mk[0][j]\n",
    "for i in range(len(mk)): \n",
    "  sum_gldiag += mk[i][i]\n",
    "  sum_pobdiag += mk[i][-i-1]\n",
    "  sum_stroki = 0\n",
    "  sum_stolb = 0\n",
    "  for j in range(len(mk)):\n",
    "    sum_stroki += mk[i][j]\n",
    "    sum_stolb += mk[j][i]\n",
    "  if (sum != sum_stroki) or (sum != sum_stolb):\n",
    "    equal = False\n",
    "if (sum!= sum_gldiag) or (sum != sum_pobdiag):\n",
    "  equal = False\n",
    "if equal == True:\n",
    "  print(\"Квадрат является магическим\")\n",
    "else:\n",
    "  print(\"Квадрат не является магическим\")"
   ]
  },
  {
   "cell_type": "code",
   "execution_count": null,
   "metadata": {},
   "outputs": [],
   "source": [
    "# Задание 435\n",
    "import random\n",
    "equal = False\n",
    "equal_b = False\n",
    "bul = False\n",
    "bul_b = False\n",
    "n = int(input(\"Введите n: \"))\n",
    "m = int(input(\"Введите m: \"))\n",
    "k = int(input(\"Введите k: \"))\n",
    "a = [random.randint(0, 50) for i in range(n)]\n",
    "b = [random.randint(0, 50) for i in range(m)]\n",
    "for i in a:\n",
    "  if i == k:\n",
    "    equal = True\n",
    "for i in b:\n",
    "  if i == 10:\n",
    "    equal_b = True\n",
    "print(\"a:\", a)\n",
    "if equal == False:\n",
    "  for i in range(len(a)):\n",
    "    min = a[i]\n",
    "    for j in range(len(a)):\n",
    "      if min > a[j]:\n",
    "        a[i] = k\n",
    "        bul = True\n",
    "        break\n",
    "    if bul == True:\n",
    "      break\n",
    "print(\"b: \", b)\n",
    "if equal_b == False:\n",
    "  for i in range(len(b)):\n",
    "    min = b[i]\n",
    "    for j in range(len(b)):\n",
    "      if min > b[j]:\n",
    "        b[i] = 10\n",
    "        bul = True\n",
    "        break\n",
    "    if bul == True:\n",
    "      break\n",
    "print(\"a:\", a)\n",
    "print(\"b: \", b)"
   ]
  },
  {
   "cell_type": "code",
   "execution_count": null,
   "metadata": {},
   "outputs": [],
   "source": [
    "# Задание 136(б)\n",
    "import random\n",
    "n = int(input(\"Введите n: \"))\n",
    "a = [random.uniform(0, 10) for i in range(n)]\n",
    "result = 1\n",
    "for i in a:\n",
    "  result = result * i\n",
    "  print(\"{:.1f} \".format(i), end = \"\" )\n",
    "print(\"Результат = {:.1f} \".format(result), end = \"\" )"
   ]
  },
  {
   "cell_type": "code",
   "execution_count": null,
   "metadata": {},
   "outputs": [],
   "source": [
    "# Задание 832\n",
    "import datetime\n",
    "n = int(input(\"Введите год: \"))\n",
    "daysOfMonth = [30, 28, 31, 30, 31, 30, 31, 31, 30, 31, 30, 31]\n",
    "months = ['января','февраля','марта','апреля','мая','июня','июля','августа','сентября','октября','ноября','декабря']\n",
    "if not (n % 4 != 0 or (n % 100 == 0 and n % 400 != 0)):\n",
    "  daysOfMonth[1] = 29\n",
    "i = 1\n",
    "while i < 13:\n",
    "  for j in range(7):\n",
    "    day = datetime.date(n, i, daysOfMonth[i-1] - j)\n",
    "    if day.isoweekday() == 4:\n",
    "      print(day.day, ' ', months[i-1], ' ', n, ' года')\n",
    "  i += 1"
   ]
  }
 ],
 "metadata": {
  "kernelspec": {
   "display_name": "Python 3",
   "language": "python",
   "name": "python3"
  },
  "language_info": {
   "codemirror_mode": {
    "name": "ipython",
    "version": 3
   },
   "file_extension": ".py",
   "mimetype": "text/x-python",
   "name": "python",
   "nbconvert_exporter": "python",
   "pygments_lexer": "ipython3",
   "version": "3.7.6"
  }
 },
 "nbformat": 4,
 "nbformat_minor": 4
}
