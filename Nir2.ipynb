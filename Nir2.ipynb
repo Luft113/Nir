# Вариант 2
# Задание 316(а)
string = "Стукажаававапвпд апвд укц"
i = 0
conclusion = False
while i < len(string) and string[i] != " ":
  word = ""
  while i < len(string) and string[i] != " ":
    word += string[i]
    i = i + 1
  if (word[len(word)-1] == 'д') and (len(word) <= 15):
    print(word)
    conclusion = True
  i = i + 1
if conclusion == False:
  print("Таких слов нет")
  
# Задание 368
import random
import math
a = [random.uniform(-100, 100) for i in range(10)]
b = [random.uniform(-100, 100) for i in range(20)]
c = [[0] * 10 for i in range(20)]
for i in range(len(b) - 1):
  for j in range(len(a) - 1):
    c[i][j] = a[j]/(1 + abs(b[i])) 
    print("{:.2f} ".format(c[i][j]), end = "" )
  print()

# Задание 1014
mk = [[17, 24, 1, 8, 15], [23, 5, 7, 14, 16], [4, 6, 13, 20, 22], [10, 12, 19, 21, 3], [11, 18, 25, 2, 9]]
sum = 0
equal = True
sum_gldiag = 0
sum_pobdiag = 0
for j in range(len(mk)):
  sum += mk[0][j]
for i in range(len(mk)): 
  sum_gldiag += mk[i][i]
  sum_pobdiag += mk[i][-i-1]
  sum_stroki = 0
  sum_stolb = 0
  for j in range(len(mk)):
    sum_stroki += mk[i][j]
    sum_stolb += mk[j][i]
  if (sum != sum_stroki) or (sum != sum_stolb):
    equal = False
if (sum!= sum_gldiag) or (sum != sum_pobdiag):
  equal = False
if equal == True:
  print("Квадрат является магическим")
else:
  print("Квадрат не является магическим")

# Задание 435
import random
equal = False
equal_b = False
bul = False
bul_b = False
n = int(input("Введите n: "))
m = int(input("Введите m: "))
k = int(input("Введите k: "))
a = [random.randint(0, 50) for i in range(n)]
b = [random.randint(0, 50) for i in range(m)]
for i in a:
  if i == k:
    equal = True
for i in b:
  if i == 10:
    equal_b = True
print("a:", a)
if equal == False:
  for i in range(len(a)):
    min = a[i]
    for j in range(len(a)):
      if min > a[j]:
        a[i] = k
        bul = True
        break
    if bul == True:
      break
print("b: ", b)
if equal_b == False:
  for i in range(len(b)):
    min = b[i]
    for j in range(len(b)):
      if min > b[j]:
        b[i] = 10
        bul = True
        break
    if bul == True:
      break
print("a:", a)
print("b: ", b)

#Задание 136(б)
import random
n = int(input("Введите n: "))
a = [random.uniform(0, 10) for i in range(n)]
result = 1
for i in a:
  result = result * i
  print("{:.1f} ".format(i), end = "" )
print("Результат = {:.1f} ".format(result), end = "" )

# Задание 832
import datetime
n = int(input("Введите год: "))
daysOfMonth = [30, 28, 31, 30, 31, 30, 31, 31, 30, 31, 30, 31]
months = ['января','февраля','марта','апреля','мая','июня','июля','августа','сентября','октября','ноября','декабря']
if not (n % 4 != 0 or (n % 100 == 0 and n % 400 != 0)):
  daysOfMonth[1] = 29
i = 1
while i < 13:
  for j in range(7):
    day = datetime.date(n, i, daysOfMonth[i-1] - j)
    if day.isoweekday() == 4:
      print(day.day, ' ', months[i-1], ' ', n, ' года')
  i += 1